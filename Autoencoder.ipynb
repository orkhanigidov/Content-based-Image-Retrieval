{
  "nbformat": 4,
  "nbformat_minor": 0,
  "metadata": {
    "colab": {
      "name": "MM.ipynb",
      "provenance": [],
      "collapsed_sections": []
    },
    "kernelspec": {
      "name": "python3",
      "display_name": "Python 3"
    },
    "accelerator": "GPU"
  },
  "cells": [
    {
      "cell_type": "markdown",
      "metadata": {
        "id": "OQi_lMtMsI-h",
        "colab_type": "text"
      },
      "source": [
        "# Dataset Preparation"
      ]
    },
    {
      "cell_type": "code",
      "metadata": {
        "id": "TJ6Ak3o2IkC1",
        "colab_type": "code",
        "colab": {}
      },
      "source": [
        "import numpy as np\n",
        "import pandas as pd\n",
        "from keras.datasets import cifar10\n",
        "from keras.layers import Input, Conv2D, MaxPooling2D, UpSampling2D, Reshape, Dense, Flatten\n",
        "from keras.models import Model\n",
        "from keras.callbacks import TensorBoard, ModelCheckpoint\n",
        "from keras.utils import model_to_dot\n",
        "from keras.utils.vis_utils import plot_model\n",
        "import matplotlib.pyplot as plt\n",
        "import seaborn as sns\n",
        "from sklearn.neighbors import NearestNeighbors\n",
        "import umap\n",
        "\n",
        "%load_ext tensorboard\n",
        "\n",
        "(x_train, y_train), (x_test, y_test) = cifar10.load_data()\n",
        "\n",
        "x_train = np.reshape(x_train, (len(x_train), 32, 32, 3))\n",
        "x_test = np.reshape(x_test, (len(x_test), 32, 32, 3))\n",
        "\n",
        "x_train = x_train.astype('float32')\n",
        "x_test = x_test.astype('float32')\n",
        "\n",
        "x_train = x_train / 255.0\n",
        "x_test = x_test / 255.0"
      ],
      "execution_count": null,
      "outputs": []
    },
    {
      "cell_type": "markdown",
      "metadata": {
        "id": "1dTGA6UKsTkH",
        "colab_type": "text"
      },
      "source": [
        "# Building the Autoencoder"
      ]
    },
    {
      "cell_type": "code",
      "metadata": {
        "id": "ewenUgvuIzaU",
        "colab_type": "code",
        "colab": {}
      },
      "source": [
        "input_img = Input(shape=(32, 32, 3), name='input')\n",
        "\n",
        "encoded = Conv2D(32, (3, 3), activation='relu', padding='same', name='conv2d_1')(input_img)\n",
        "encoded = MaxPooling2D((2, 2), name='max_pooling2d_1')(encoded)\n",
        "encoded = Conv2D(64, (3, 3), activation='relu', padding='same', name='conv2d_2')(encoded)\n",
        "encoded = MaxPooling2D((2, 2), name='max_pooling2d_2')(encoded)\n",
        "encoded = Conv2D(64, (3, 3), activation='relu', padding='same', name='conv2d_3')(encoded)\n",
        "encoded = Flatten(name='flatten')(encoded)\n",
        "encoded = Dense(10, name='dense_1')(encoded)\n",
        "\n",
        "decoded = Dense(4096, activation='relu', name='dense_2')(encoded)\n",
        "decoded = Reshape((8, 8, 64), name='reshape')(decoded)\n",
        "decoded = Conv2D(64, (3, 3), activation='relu', padding='same', name='conv2d_4')(decoded)\n",
        "decoded = UpSampling2D((2, 2), name='up_sampling2d_1')(decoded)\n",
        "decoded = Conv2D(32, (3, 3), activation='relu', padding='same', name='conv2d_5')(decoded)\n",
        "decoded = UpSampling2D((2, 2), name='up_sampling2d_2')(decoded)\n",
        "decoded = Conv2D(3, (3, 3), activation='sigmoid', padding='same', name='conv2d_6')(decoded)\n",
        "\n",
        "model = Model(input_img, decoded)\n",
        "model.compile(optimizer='adadelta', loss='mse', metrics=['accuracy'])\n",
        "\n",
        "encoder = Model(input_img, encoded)\n",
        "\n",
        "plot_model(model, to_file='model.png', show_shapes=True)"
      ],
      "execution_count": null,
      "outputs": []
    },
    {
      "cell_type": "markdown",
      "metadata": {
        "id": "022d9N7psegW",
        "colab_type": "text"
      },
      "source": [
        "# Training the Auto-Encoder"
      ]
    },
    {
      "cell_type": "code",
      "metadata": {
        "id": "KUa44hkyI0Ha",
        "colab_type": "code",
        "colab": {}
      },
      "source": [
        "!rm -rf ./logs/\n",
        "\n",
        "# model.load_weights(checkpoint_filepath)\n",
        "\n",
        "tensorboard_callback = TensorBoard(log_dir='logs/fit/', histogram_freq=1)\n",
        "model_checkpoint_callback = ModelCheckpoint(\"model.hdf5\",\n",
        "                                            monitor='val_loss',\n",
        "                                            save_best_only=True,\n",
        "                                            mode='auto')\n",
        "\n",
        "model.fit(x_train, x_train,\n",
        "          batch_size=200,\n",
        "          epochs=100,\n",
        "          verbose=1,\n",
        "          callbacks=[tensorboard_callback, model_checkpoint_callback],\n",
        "          validation_data=(x_test, x_test),\n",
        "          shuffle=True)\n",
        "\n",
        "encoded_imgs = encoder.predict(x_test)\n",
        "decoded_imgs = model.predict(x_test)\n",
        "\n",
        "%tensorboard --logdir=logs/fit"
      ],
      "execution_count": null,
      "outputs": []
    },
    {
      "cell_type": "markdown",
      "metadata": {
        "id": "G1idJ-CPspid",
        "colab_type": "text"
      },
      "source": [
        "# Sanity Check"
      ]
    },
    {
      "cell_type": "markdown",
      "metadata": {
        "id": "oO2kFtpXtLxu",
        "colab_type": "text"
      },
      "source": [
        "Visualizing Reconstruction Results"
      ]
    },
    {
      "cell_type": "code",
      "metadata": {
        "id": "VniZ4SgHI1lS",
        "colab_type": "code",
        "colab": {}
      },
      "source": [
        "n = 10\n",
        "plt.figure(figsize=(20, 4))\n",
        "for i in range(n):\n",
        "  ax = plt.subplot(2, n, i + 1)\n",
        "  plt.imshow(x_test[i].reshape(32, 32, 3))\n",
        "  ax.get_xaxis().set_visible(False)\n",
        "  ax.get_yaxis().set_visible(False)\n",
        "\n",
        "  ax = plt.subplot(2, n, i + 1 + n)\n",
        "  plt.imshow(decoded_imgs[i].reshape(32, 32, 3))\n",
        "  ax.get_xaxis().set_visible(False)\n",
        "  ax.get_yaxis().set_visible(False)\n",
        "plt.show()"
      ],
      "execution_count": null,
      "outputs": []
    },
    {
      "cell_type": "markdown",
      "metadata": {
        "id": "8_-6BWcstJzu",
        "colab_type": "text"
      },
      "source": [
        "Distribution Analysis"
      ]
    },
    {
      "cell_type": "code",
      "metadata": {
        "id": "rqBt9brjI2v7",
        "colab_type": "code",
        "colab": {}
      },
      "source": [
        "df = pd.DataFrame(data=encoded_imgs)\n",
        "df = df.sample(n=50)\n",
        "sns.pairplot(df)"
      ],
      "execution_count": null,
      "outputs": []
    },
    {
      "cell_type": "markdown",
      "metadata": {
        "id": "o9oJaprX0Iah",
        "colab_type": "text"
      },
      "source": [
        "UMAP"
      ]
    },
    {
      "cell_type": "code",
      "metadata": {
        "id": "AOkGbA0O0Sms",
        "colab_type": "code",
        "colab": {}
      },
      "source": [
        "y_test = np.reshape(y_test, (len(y_test)))\n",
        "\n",
        "mapper = umap.UMAP().fit(encoded_imgs)\n",
        "umap.plot.points(mapper, labels=y_test)"
      ],
      "execution_count": null,
      "outputs": []
    },
    {
      "cell_type": "markdown",
      "metadata": {
        "id": "js0s4exes_HB",
        "colab_type": "text"
      },
      "source": [
        "# Data Querying"
      ]
    },
    {
      "cell_type": "markdown",
      "metadata": {
        "id": "48MZ7c_feoCz",
        "colab_type": "text"
      },
      "source": [
        "Euclidean Distance"
      ]
    },
    {
      "cell_type": "code",
      "metadata": {
        "id": "ZwEZpMNpKkqM",
        "colab_type": "code",
        "colab": {}
      },
      "source": [
        "query = x_test[10]\n",
        "query_encoded_img = encoder.predict(query.reshape(1, 32, 32, 3))\n",
        "\n",
        "nbrs = NearestNeighbors(n_neighbors=10, metric='euclidean')\n",
        "nbrs.fit(encoded_imgs)\n",
        "distances, indices = nbrs.kneighbors(np.array(query_encoded_img))\n",
        "closest_image = x_test[indices]\n",
        "closest_image = closest_image.reshape(-1, 32, 32, 3)\n",
        "\n",
        "n = 10\n",
        "plt.figure(figsize=(20, 4))\n",
        "for i in range(n):\n",
        "  ax = plt.subplot(2, n, i + 1)\n",
        "  plt.imshow(query)\n",
        "  ax.get_xaxis().set_visible(False)\n",
        "  ax.get_yaxis().set_visible(False)\n",
        "\n",
        "  ax = plt.subplot(2, n, i + 1 + n)\n",
        "  plt.imshow(closest_image[i])\n",
        "  plt.title(\"Distance: %.3f\" % distances[0][i])\n",
        "  ax.get_xaxis().set_visible(False)\n",
        "  ax.get_yaxis().set_visible(False)\n",
        "plt.show()"
      ],
      "execution_count": null,
      "outputs": []
    },
    {
      "cell_type": "markdown",
      "metadata": {
        "id": "yzVHz42_eqnq",
        "colab_type": "text"
      },
      "source": [
        "Manhattan Distance"
      ]
    },
    {
      "cell_type": "code",
      "metadata": {
        "id": "fiArmAxPezhN",
        "colab_type": "code",
        "colab": {}
      },
      "source": [
        "query = x_test[10]\n",
        "query_encoded_img = encoder.predict(query.reshape(1, 32, 32, 3))\n",
        "\n",
        "nbrs = NearestNeighbors(n_neighbors=10, metric='manhattan')\n",
        "nbrs.fit(encoded_imgs)\n",
        "distances, indices = nbrs.kneighbors(np.array(query_encoded_img))\n",
        "closest_image = x_test[indices]\n",
        "closest_image = closest_image.reshape(-1, 32, 32, 3)\n",
        "\n",
        "n = 10\n",
        "plt.figure(figsize=(20, 4))\n",
        "for i in range(n):\n",
        "  ax = plt.subplot(2, n, i + 1)\n",
        "  plt.imshow(query)\n",
        "  ax.get_xaxis().set_visible(False)\n",
        "  ax.get_yaxis().set_visible(False)\n",
        "\n",
        "  ax = plt.subplot(2, n, i + 1 + n)\n",
        "  plt.imshow(closest_image[i])\n",
        "  plt.title(\"Distance: %.3f\" % distances[0][i])\n",
        "  ax.get_xaxis().set_visible(False)\n",
        "  ax.get_yaxis().set_visible(False)\n",
        "plt.show()"
      ],
      "execution_count": null,
      "outputs": []
    },
    {
      "cell_type": "markdown",
      "metadata": {
        "id": "inskk1cFe2Uc",
        "colab_type": "text"
      },
      "source": [
        "Chebyshev Distance"
      ]
    },
    {
      "cell_type": "code",
      "metadata": {
        "id": "Ukr06VW2e5Kz",
        "colab_type": "code",
        "colab": {}
      },
      "source": [
        "query = x_test[10]\n",
        "query_encoded_img = encoder.predict(query.reshape(1, 32, 32, 3))\n",
        "\n",
        "nbrs = NearestNeighbors(n_neighbors=10, metric='chebyshev')\n",
        "nbrs.fit(encoded_imgs)\n",
        "distances, indices = nbrs.kneighbors(np.array(query_encoded_img))\n",
        "closest_image = x_test[indices]\n",
        "closest_image = closest_image.reshape(-1, 32, 32, 3)\n",
        "\n",
        "n = 10\n",
        "plt.figure(figsize=(20, 4))\n",
        "for i in range(n):\n",
        "  ax = plt.subplot(2, n, i + 1)\n",
        "  plt.imshow(query)\n",
        "  ax.get_xaxis().set_visible(False)\n",
        "  ax.get_yaxis().set_visible(False)\n",
        "\n",
        "  ax = plt.subplot(2, n, i + 1 + n)\n",
        "  plt.imshow(closest_image[i])\n",
        "  plt.title(\"Distance: %.3f\" % distances[0][i])\n",
        "  ax.get_xaxis().set_visible(False)\n",
        "  ax.get_yaxis().set_visible(False)\n",
        "plt.show()"
      ],
      "execution_count": null,
      "outputs": []
    }
  ]
}